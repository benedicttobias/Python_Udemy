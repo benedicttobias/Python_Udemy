{
 "cells": [
  {
   "cell_type": "code",
   "execution_count": 1,
   "metadata": {},
   "outputs": [],
   "source": [
    "import folium"
   ]
  },
  {
   "cell_type": "code",
   "execution_count": 2,
   "metadata": {},
   "outputs": [],
   "source": [
    "# Add location and zoon\n",
    "map = folium.Map(location=[30.471996, -87.241775], zoom_start=20)\n",
    "\n",
    "# Save to javascript\n",
    "map.save(\"map1.html\")"
   ]
  },
  {
   "cell_type": "code",
   "execution_count": 17,
   "metadata": {},
   "outputs": [],
   "source": [
    "# add tiles\n",
    "map = folium.Map(location=[30.471996, -87.241775], zoom_start=16)\n",
    "\n",
    "# Add marker group\n",
    "fg = folium.FeatureGroup(name=\"My Map\")\n",
    "\n",
    "# add marker\n",
    "for coordinates in [[30.471996, -87.241775], [30.472661, -87.233964]]:\n",
    "    fg.add_child(folium.Marker(location=coordinates, popup=\"PCC\", icon=folium.Icon(color='green')))\n",
    "\n",
    "\n",
    "# add marker group to map\n",
    "map.add_child(fg)\n",
    "\n",
    "# Save to javascript\n",
    "map.save(\"map1.html\")"
   ]
  },
  {
   "cell_type": "code",
   "execution_count": null,
   "metadata": {},
   "outputs": [],
   "source": []
  }
 ],
 "metadata": {
  "kernelspec": {
   "display_name": "Python 3",
   "language": "python",
   "name": "python3"
  },
  "language_info": {
   "codemirror_mode": {
    "name": "ipython",
    "version": 3
   },
   "file_extension": ".py",
   "mimetype": "text/x-python",
   "name": "python",
   "nbconvert_exporter": "python",
   "pygments_lexer": "ipython3",
   "version": "3.6.4"
  }
 },
 "nbformat": 4,
 "nbformat_minor": 2
}
